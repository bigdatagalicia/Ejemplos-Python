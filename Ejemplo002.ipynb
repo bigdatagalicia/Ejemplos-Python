{
 "cells": [
  {
   "cell_type": "code",
   "execution_count": 1,
   "metadata": {},
   "outputs": [],
   "source": [
    "listaNum=[2,3,4,6,8,9]"
   ]
  },
  {
   "cell_type": "code",
   "execution_count": 2,
   "metadata": {},
   "outputs": [],
   "source": [
    "semana=[\"lunes\",\"martes\",\"miércoles\",\"jueves\",\"viernes\",\"sábado\",\"domingo\"]"
   ]
  },
  {
   "cell_type": "code",
   "execution_count": 3,
   "metadata": {},
   "outputs": [
    {
     "data": {
      "text/plain": [
       "'lunes'"
      ]
     },
     "execution_count": 3,
     "metadata": {},
     "output_type": "execute_result"
    }
   ],
   "source": [
    "semana[0]"
   ]
  },
  {
   "cell_type": "code",
   "execution_count": 4,
   "metadata": {},
   "outputs": [
    {
     "data": {
      "text/plain": [
       "'viernes'"
      ]
     },
     "execution_count": 4,
     "metadata": {},
     "output_type": "execute_result"
    }
   ],
   "source": [
    "semana[4]"
   ]
  },
  {
   "cell_type": "code",
   "execution_count": 5,
   "metadata": {},
   "outputs": [
    {
     "data": {
      "text/plain": [
       "['lunes', 'martes', 'miércoles', 'jueves', 'viernes']"
      ]
     },
     "execution_count": 5,
     "metadata": {},
     "output_type": "execute_result"
    }
   ],
   "source": [
    "semana[0:5]"
   ]
  },
  {
   "cell_type": "code",
   "execution_count": 7,
   "metadata": {},
   "outputs": [
    {
     "data": {
      "text/plain": [
       "['sábado', 'domingo']"
      ]
     },
     "execution_count": 7,
     "metadata": {},
     "output_type": "execute_result"
    }
   ],
   "source": [
    "semana[5:]"
   ]
  },
  {
   "cell_type": "code",
   "execution_count": 8,
   "metadata": {},
   "outputs": [],
   "source": [
    "semana.append(\"uno más\")"
   ]
  },
  {
   "cell_type": "code",
   "execution_count": 9,
   "metadata": {},
   "outputs": [
    {
     "data": {
      "text/plain": [
       "['lunes',\n",
       " 'martes',\n",
       " 'miércoles',\n",
       " 'jueves',\n",
       " 'viernes',\n",
       " 'sábado',\n",
       " 'domingo',\n",
       " 'uno más']"
      ]
     },
     "execution_count": 9,
     "metadata": {},
     "output_type": "execute_result"
    }
   ],
   "source": [
    "semana"
   ]
  },
  {
   "cell_type": "code",
   "execution_count": 10,
   "metadata": {},
   "outputs": [
    {
     "data": {
      "text/plain": [
       "8"
      ]
     },
     "execution_count": 10,
     "metadata": {},
     "output_type": "execute_result"
    }
   ],
   "source": [
    "len(semana)"
   ]
  },
  {
   "cell_type": "code",
   "execution_count": 20,
   "metadata": {},
   "outputs": [],
   "source": [
    "archivo=open(\"/home/bigdata/usuarios.csv\")\n",
    "lineas=archivo.readlines()"
   ]
  },
  {
   "cell_type": "code",
   "execution_count": 23,
   "metadata": {},
   "outputs": [],
   "source": [
    "texto=lineas[1]"
   ]
  },
  {
   "cell_type": "code",
   "execution_count": 27,
   "metadata": {},
   "outputs": [
    {
     "data": {
      "text/plain": [
       "'1985,1677\\n'"
      ]
     },
     "execution_count": 27,
     "metadata": {},
     "output_type": "execute_result"
    }
   ],
   "source": [
    "texto"
   ]
  },
  {
   "cell_type": "code",
   "execution_count": 26,
   "metadata": {},
   "outputs": [
    {
     "data": {
      "text/plain": [
       "['1985', '1677']"
      ]
     },
     "execution_count": 26,
     "metadata": {},
     "output_type": "execute_result"
    }
   ],
   "source": [
    "texto.strip().split(\",\")#strip limpia el texto y split convierte a lista"
   ]
  },
  {
   "cell_type": "code",
   "execution_count": 30,
   "metadata": {},
   "outputs": [
    {
     "name": "stdout",
     "output_type": "stream",
     "text": [
      "Año,Usuarios inscritos\n",
      " ['Año', 'Usuarios inscritos']\n",
      "1985,1677\n",
      " ['1985', '1677']\n",
      "1986,1911\n",
      " ['1986', '1911']\n",
      "1987,1664\n",
      " ['1987', '1664']\n",
      "1988,1054\n",
      " ['1988', '1054']\n",
      "1989,1813\n",
      " ['1989', '1813']\n",
      "1990,640\n",
      " ['1990', '640']\n",
      "1991,1255\n",
      " ['1991', '1255']\n",
      "1992,1967\n",
      " ['1992', '1967']\n",
      "1993,2433\n",
      " ['1993', '2433']\n",
      "1994,2759\n",
      " ['1994', '2759']\n",
      "1995,2978\n",
      " ['1995', '2978']\n",
      "1996,3144\n",
      " ['1996', '3144']\n",
      "1997,2589\n",
      " ['1997', '2589']\n",
      "1998,2518\n",
      " ['1998', '2518']\n",
      "1999,2065\n",
      " ['1999', '2065']\n",
      "2000,3220\n",
      " ['2000', '3220']\n",
      "2001,3920\n",
      " ['2001', '3920']\n",
      "2002,4470\n",
      " ['2002', '4470']\n",
      "2003,5275\n",
      " ['2003', '5275']\n",
      "2004,5995\n",
      " ['2004', '5995']\n",
      "2005,6001\n",
      " ['2005', '6001']\n",
      "2006,6112\n",
      " ['2006', '6112']\n",
      "2007,5714\n",
      " ['2007', '5714']\n",
      "2008,6988\n",
      " ['2008', '6988']\n",
      "2009,8030\n",
      " ['2009', '8030']\n",
      "2010,9096\n",
      " ['2010', '9096']\n",
      "2011,10091\n",
      " ['2011', '10091']\n",
      "2012,11270\n",
      " ['2012', '11270']\n",
      "2013,12341\n",
      " ['2013', '12341']\n",
      "2014,13301\n",
      " ['2014', '13301']\n",
      "2015,14173\n",
      " ['2015', '14173']\n"
     ]
    }
   ],
   "source": [
    "for linea in lineas:\n",
    "    print(linea,linea.strip().split(\",\"))"
   ]
  },
  {
   "cell_type": "code",
   "execution_count": null,
   "metadata": {},
   "outputs": [],
   "source": []
  }
 ],
 "metadata": {
  "kernelspec": {
   "display_name": "Python 3",
   "language": "python",
   "name": "python3"
  },
  "language_info": {
   "codemirror_mode": {
    "name": "ipython",
    "version": 3
   },
   "file_extension": ".py",
   "mimetype": "text/x-python",
   "name": "python",
   "nbconvert_exporter": "python",
   "pygments_lexer": "ipython3",
   "version": "3.5.2"
  }
 },
 "nbformat": 4,
 "nbformat_minor": 2
}
