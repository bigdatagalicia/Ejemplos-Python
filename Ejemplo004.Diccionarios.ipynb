{
 "cells": [
  {
   "cell_type": "code",
   "execution_count": 2,
   "metadata": {},
   "outputs": [],
   "source": [
    "dic1={\"Nombre\":\"Pedro\",\"Edad\":15}"
   ]
  },
  {
   "cell_type": "code",
   "execution_count": 3,
   "metadata": {},
   "outputs": [
    {
     "data": {
      "text/plain": [
       "{'Edad': 15, 'Nombre': 'Pedro'}"
      ]
     },
     "execution_count": 3,
     "metadata": {},
     "output_type": "execute_result"
    }
   ],
   "source": [
    "dic1"
   ]
  },
  {
   "cell_type": "code",
   "execution_count": 4,
   "metadata": {},
   "outputs": [
    {
     "data": {
      "text/plain": [
       "'Pedro'"
      ]
     },
     "execution_count": 4,
     "metadata": {},
     "output_type": "execute_result"
    }
   ],
   "source": [
    "dic1[\"Nombre\"]"
   ]
  },
  {
   "cell_type": "code",
   "execution_count": 5,
   "metadata": {},
   "outputs": [
    {
     "data": {
      "text/plain": [
       "15"
      ]
     },
     "execution_count": 5,
     "metadata": {},
     "output_type": "execute_result"
    }
   ],
   "source": [
    "dic1[\"Edad\"]"
   ]
  },
  {
   "cell_type": "code",
   "execution_count": 6,
   "metadata": {},
   "outputs": [
    {
     "data": {
      "text/plain": [
       "('Pedro', None)"
      ]
     },
     "execution_count": 6,
     "metadata": {},
     "output_type": "execute_result"
    }
   ],
   "source": [
    "dic1.get(\"Nombre\"),dic1.get(\"Teléfono\")"
   ]
  },
  {
   "cell_type": "code",
   "execution_count": 7,
   "metadata": {},
   "outputs": [
    {
     "data": {
      "text/plain": [
       "dict_keys(['Edad', 'Nombre'])"
      ]
     },
     "execution_count": 7,
     "metadata": {},
     "output_type": "execute_result"
    }
   ],
   "source": [
    "dic1.keys()"
   ]
  },
  {
   "cell_type": "code",
   "execution_count": 8,
   "metadata": {},
   "outputs": [
    {
     "data": {
      "text/plain": [
       "dict_values([15, 'Pedro'])"
      ]
     },
     "execution_count": 8,
     "metadata": {},
     "output_type": "execute_result"
    }
   ],
   "source": [
    "dic1.values()"
   ]
  },
  {
   "cell_type": "code",
   "execution_count": 9,
   "metadata": {},
   "outputs": [
    {
     "data": {
      "text/plain": [
       "dict_items([('Edad', 15), ('Nombre', 'Pedro')])"
      ]
     },
     "execution_count": 9,
     "metadata": {},
     "output_type": "execute_result"
    }
   ],
   "source": [
    "dic1.items()"
   ]
  },
  {
   "cell_type": "code",
   "execution_count": 10,
   "metadata": {},
   "outputs": [],
   "source": [
    "dic2={\"Clientes\":[\n",
    "    {\"Nombre\":\"Pedro\",\"Edad\":15},\n",
    "    {\"Nombre\":\"Marta\",\"Edad\":25}\n",
    "]}"
   ]
  },
  {
   "cell_type": "code",
   "execution_count": 11,
   "metadata": {},
   "outputs": [
    {
     "data": {
      "text/plain": [
       "25"
      ]
     },
     "execution_count": 11,
     "metadata": {},
     "output_type": "execute_result"
    }
   ],
   "source": [
    "dic2.get(\"Clientes\")[1].get(\"Edad\")"
   ]
  },
  {
   "cell_type": "code",
   "execution_count": 12,
   "metadata": {},
   "outputs": [
    {
     "data": {
      "text/plain": [
       "25"
      ]
     },
     "execution_count": 12,
     "metadata": {},
     "output_type": "execute_result"
    }
   ],
   "source": [
    "dic2[\"Clientes\"][1][\"Edad\"]"
   ]
  },
  {
   "cell_type": "code",
   "execution_count": 13,
   "metadata": {},
   "outputs": [],
   "source": [
    "import requests "
   ]
  },
  {
   "cell_type": "code",
   "execution_count": 14,
   "metadata": {},
   "outputs": [],
   "source": [
    "url=\"http://servizos.meteogalicia.gal/rss/observacion/observacionConcellos.action\""
   ]
  },
  {
   "cell_type": "code",
   "execution_count": 15,
   "metadata": {},
   "outputs": [],
   "source": [
    "respuesta=requests.get(url)"
   ]
  },
  {
   "cell_type": "code",
   "execution_count": 16,
   "metadata": {},
   "outputs": [
    {
     "data": {
      "text/plain": [
       "<Response [200]>"
      ]
     },
     "execution_count": 16,
     "metadata": {},
     "output_type": "execute_result"
    }
   ],
   "source": [
    "respuesta"
   ]
  },
  {
   "cell_type": "code",
   "execution_count": 17,
   "metadata": {},
   "outputs": [],
   "source": [
    "import json"
   ]
  },
  {
   "cell_type": "code",
   "execution_count": 18,
   "metadata": {},
   "outputs": [],
   "source": [
    "datos=json.loads(respuesta.text)"
   ]
  },
  {
   "cell_type": "code",
   "execution_count": 19,
   "metadata": {},
   "outputs": [
    {
     "data": {
      "text/plain": [
       "15.9"
      ]
     },
     "execution_count": 19,
     "metadata": {},
     "output_type": "execute_result"
    }
   ],
   "source": [
    "datos['listaObservacionConcellos'][0].get(\"temperatura\")"
   ]
  },
  {
   "cell_type": "code",
   "execution_count": 30,
   "metadata": {},
   "outputs": [],
   "source": [
    "rdd=sc.parallelize(datos['listaObservacionConcellos'])"
   ]
  },
  {
   "cell_type": "code",
   "execution_count": 40,
   "metadata": {},
   "outputs": [
    {
     "data": {
      "text/plain": [
       "[('A Baña', 15.9, '2018-11-16T17:51:00'),\n",
       " ('A Bola', 15.1, '2018-11-16T17:51:00'),\n",
       " ('A Cañiza', 13.8, '2018-11-16T17:51:00'),\n",
       " ('A Capela', 17.2, '2018-11-16T17:51:00'),\n",
       " ('A Coruña', 19.4, '2018-11-16T17:51:00')]"
      ]
     },
     "execution_count": 40,
     "metadata": {},
     "output_type": "execute_result"
    }
   ],
   "source": [
    "meteoRDD=rdd.map(lambda a:(a.get(\"nomeConcello\"),\n",
    "                           a.get(\"temperatura\"),\n",
    "                          a.get(\"dataLocal\")))\n",
    "\n",
    "meteoRDD.take(5)"
   ]
  },
  {
   "cell_type": "code",
   "execution_count": 45,
   "metadata": {},
   "outputs": [
    {
     "data": {
      "text/plain": [
       "16.717142857142857"
      ]
     },
     "execution_count": 45,
     "metadata": {},
     "output_type": "execute_result"
    }
   ],
   "source": [
    "meteoRDD.map(lambda a:a[1]).mean()"
   ]
  },
  {
   "cell_type": "code",
   "execution_count": 46,
   "metadata": {},
   "outputs": [
    {
     "data": {
      "text/plain": [
       "(count: 315, mean: 16.717142857142857, stdev: 1.9059367805197183, max: 20.9, min: 10.4)"
      ]
     },
     "execution_count": 46,
     "metadata": {},
     "output_type": "execute_result"
    }
   ],
   "source": [
    "meteoRDD.map(lambda a:a[1]).stats()"
   ]
  },
  {
   "cell_type": "code",
   "execution_count": null,
   "metadata": {},
   "outputs": [],
   "source": []
  },
  {
   "cell_type": "code",
   "execution_count": 53,
   "metadata": {},
   "outputs": [
    {
     "data": {
      "text/plain": [
       "[('Vigo', 20.5, '2018-11-16T17:51:00')]"
      ]
     },
     "execution_count": 53,
     "metadata": {},
     "output_type": "execute_result"
    }
   ],
   "source": [
    "meteoRDD.filter(lambda a:a[0]==\"Vigo\").collect()"
   ]
  },
  {
   "cell_type": "code",
   "execution_count": 58,
   "metadata": {},
   "outputs": [
    {
     "data": {
      "text/plain": [
       "[('Avión', 15.8, '2018-11-16T17:51:00'),\n",
       " ('Carballeda de Avia', 15.7, '2018-11-16T17:51:00'),\n",
       " ('Navia de Suarna', 16.4, '2018-11-16T17:51:00'),\n",
       " ('O Saviñao', 15.7, '2018-11-16T17:51:00'),\n",
       " ('O Vicedo', 17.6, '2018-11-16T17:51:00'),\n",
       " ('Ribadavia', 15.6, '2018-11-16T17:51:00'),\n",
       " ('San Cibrao das Viñas', 17.6, '2018-11-16T17:51:00'),\n",
       " ('Valdoviño', 18.6, '2018-11-16T17:51:00'),\n",
       " ('Viana do Bolo', 14.0, '2018-11-16T17:51:00'),\n",
       " ('Vigo', 20.5, '2018-11-16T17:51:00'),\n",
       " ('Vila de Cruces', 16.8, '2018-11-16T17:51:00'),\n",
       " ('Vilaboa', 17.6, '2018-11-16T17:51:00'),\n",
       " ('Vilagarcía de Arousa', 18.4, '2018-11-16T17:51:00'),\n",
       " ('Vilalba', 16.1, '2018-11-16T17:51:00'),\n",
       " ('Vilamarín', 16.2, '2018-11-16T17:51:00'),\n",
       " ('Vilamartín de Valdeorras', 17.2, '2018-11-16T17:51:00'),\n",
       " ('Vilanova de Arousa', 17.3, '2018-11-16T17:51:00'),\n",
       " ('Vilar de Barrio', 14.3, '2018-11-16T17:51:00'),\n",
       " ('Vilar de Santos', 14.4, '2018-11-16T17:51:00'),\n",
       " ('Vilardevós', 13.5, '2018-11-16T17:51:00'),\n",
       " ('Vilariño de Conso', 12.8, '2018-11-16T17:51:00'),\n",
       " ('Vilarmaior', 18.6, '2018-11-16T17:51:00'),\n",
       " ('Vilasantar', 16.7, '2018-11-16T17:51:00'),\n",
       " ('Vimianzo', 17.5, '2018-11-16T17:51:00'),\n",
       " ('Viveiro', 18.1, '2018-11-16T17:51:00')]"
      ]
     },
     "execution_count": 58,
     "metadata": {},
     "output_type": "execute_result"
    }
   ],
   "source": [
    "meteoRDD.filter(lambda a:\"vi\" in a[0].lower()).collect()"
   ]
  },
  {
   "cell_type": "code",
   "execution_count": 60,
   "metadata": {},
   "outputs": [
    {
     "data": {
      "text/plain": [
       "[('Vigo', 20.5, '2018-11-16T17:51:00'),\n",
       " ('Vilaboa', 17.6, '2018-11-16T17:51:00'),\n",
       " ('Vilagarcía de Arousa', 18.4, '2018-11-16T17:51:00'),\n",
       " ('Vilamartín de Valdeorras', 17.2, '2018-11-16T17:51:00'),\n",
       " ('Vilanova de Arousa', 17.3, '2018-11-16T17:51:00'),\n",
       " ('Vilarmaior', 18.6, '2018-11-16T17:51:00'),\n",
       " ('Vimianzo', 17.5, '2018-11-16T17:51:00'),\n",
       " ('Viveiro', 18.1, '2018-11-16T17:51:00')]"
      ]
     },
     "execution_count": 60,
     "metadata": {},
     "output_type": "execute_result"
    }
   ],
   "source": [
    "meteoRDD.filter(lambda a:a[0].startswith(\"Vi\") and a[1]>17).collect()"
   ]
  },
  {
   "cell_type": "raw",
   "metadata": {},
   "source": [
    "meteoRDD.saveAsTextFile(\"temperaturas.txt\") "
   ]
  },
  {
   "cell_type": "code",
   "execution_count": 63,
   "metadata": {},
   "outputs": [],
   "source": [
    "meteoDF=meteoRDD.toDF([\"Concello\",\"Temperatura\",\"Fecha\"])"
   ]
  },
  {
   "cell_type": "code",
   "execution_count": 64,
   "metadata": {},
   "outputs": [
    {
     "name": "stdout",
     "output_type": "stream",
     "text": [
      "+--------------------+-----------+-------------------+\n",
      "|            Concello|Temperatura|              Fecha|\n",
      "+--------------------+-----------+-------------------+\n",
      "|              A Baña|       15.9|2018-11-16T17:51:00|\n",
      "|              A Bola|       15.1|2018-11-16T17:51:00|\n",
      "|            A Cañiza|       13.8|2018-11-16T17:51:00|\n",
      "|            A Capela|       17.2|2018-11-16T17:51:00|\n",
      "|            A Coruña|       19.4|2018-11-16T17:51:00|\n",
      "|           A Estrada|       17.8|2018-11-16T17:51:00|\n",
      "|        A Fonsagrada|       13.2|2018-11-16T17:51:00|\n",
      "|            A Guarda|       18.3|2018-11-16T17:51:00|\n",
      "|            A Gudiña|       11.7|2018-11-16T17:51:00|\n",
      "|    A Illa de Arousa|       17.3|2018-11-16T17:51:00|\n",
      "|              A Lama|       16.9|2018-11-16T17:51:00|\n",
      "|             A Merca|       15.8|2018-11-16T17:51:00|\n",
      "|          A Mezquita|       11.0|2018-11-16T17:51:00|\n",
      "|         A Pastoriza|       16.5|2018-11-16T17:51:00|\n",
      "|            A Peroxa|       16.0|2018-11-16T17:51:00|\n",
      "|A Pobra do Caramiñal|       17.4|2018-11-16T17:51:00|\n",
      "|         A Pontenova|       19.0|2018-11-16T17:51:00|\n",
      "|         A Porqueira|       14.0|2018-11-16T17:51:00|\n",
      "|               A Rúa|       17.8|2018-11-16T17:51:00|\n",
      "|          A Teixeira|       15.3|2018-11-16T17:51:00|\n",
      "+--------------------+-----------+-------------------+\n",
      "only showing top 20 rows\n",
      "\n"
     ]
    }
   ],
   "source": [
    "meteoDF.show()"
   ]
  },
  {
   "cell_type": "code",
   "execution_count": 65,
   "metadata": {},
   "outputs": [],
   "source": [
    "meteoPandas=meteoDF.toPandas()"
   ]
  },
  {
   "cell_type": "code",
   "execution_count": 66,
   "metadata": {},
   "outputs": [
    {
     "data": {
      "application/vnd.jupyter.widget-view+json": {
       "model_id": "acc7fda9d73c439db5f0d49642597705",
       "version_major": 2,
       "version_minor": 0
      }
     },
     "metadata": {},
     "output_type": "display_data"
    }
   ],
   "source": [
    "meteoPandas"
   ]
  },
  {
   "cell_type": "code",
   "execution_count": 69,
   "metadata": {},
   "outputs": [
    {
     "data": {
      "text/plain": [
       "<matplotlib.axes._subplots.AxesSubplot at 0x7f54df49b240>"
      ]
     },
     "execution_count": 69,
     "metadata": {},
     "output_type": "execute_result"
    },
    {
     "data": {
      "image/png": "[encoded data removed]",
      "text/plain": [
       "<Figure size 432x288 with 1 Axes>"
      ]
     },
     "metadata": {
      "needs_background": "light"
     },
     "output_type": "display_data"
    }
   ],
   "source": [
    "meteoPandas.boxplot()"
   ]
  },
  {
   "cell_type": "code",
   "execution_count": 71,
   "metadata": {},
   "outputs": [],
   "source": [
    "from datetime import datetime"
   ]
  },
  {
   "cell_type": "code",
   "execution_count": 72,
   "metadata": {},
   "outputs": [
    {
     "data": {
      "text/plain": [
       "datetime.datetime(2018, 11, 16, 19, 40, 45, 385355)"
      ]
     },
     "execution_count": 72,
     "metadata": {},
     "output_type": "execute_result"
    }
   ],
   "source": [
    "datetime.now()"
   ]
  },
  {
   "cell_type": "code",
   "execution_count": 73,
   "metadata": {},
   "outputs": [],
   "source": [
    "fecha=datetime(2015,11,16)"
   ]
  },
  {
   "cell_type": "code",
   "execution_count": 74,
   "metadata": {},
   "outputs": [
    {
     "data": {
      "text/plain": [
       "0"
      ]
     },
     "execution_count": 74,
     "metadata": {},
     "output_type": "execute_result"
    }
   ],
   "source": [
    "fecha.weekday()"
   ]
  },
  {
   "cell_type": "code",
   "execution_count": 75,
   "metadata": {},
   "outputs": [
    {
     "data": {
      "text/plain": [
       "11"
      ]
     },
     "execution_count": 75,
     "metadata": {},
     "output_type": "execute_result"
    }
   ],
   "source": [
    "fecha.month"
   ]
  },
  {
   "cell_type": "code",
   "execution_count": 76,
   "metadata": {},
   "outputs": [],
   "source": [
    "texto=\"15/12/1998\""
   ]
  },
  {
   "cell_type": "code",
   "execution_count": 77,
   "metadata": {},
   "outputs": [],
   "source": [
    "fecha2=datetime.strptime(texto,\"%d/%m/%Y\")"
   ]
  },
  {
   "cell_type": "code",
   "execution_count": 78,
   "metadata": {},
   "outputs": [
    {
     "data": {
      "text/plain": [
       "datetime.datetime(1998, 12, 15, 0, 0)"
      ]
     },
     "execution_count": 78,
     "metadata": {},
     "output_type": "execute_result"
    }
   ],
   "source": [
    "fecha2"
   ]
  },
  {
   "cell_type": "code",
   "execution_count": 81,
   "metadata": {},
   "outputs": [],
   "source": [
    "texto3=\"2018-11-16T17:51:00\""
   ]
  },
  {
   "cell_type": "code",
   "execution_count": 82,
   "metadata": {},
   "outputs": [],
   "source": [
    "fecha3=datetime.strptime(texto3,\"%Y-%m-%dT%H:%M:%S\")"
   ]
  },
  {
   "cell_type": "code",
   "execution_count": 83,
   "metadata": {},
   "outputs": [
    {
     "data": {
      "text/plain": [
       "datetime.datetime(2018, 11, 16, 17, 51)"
      ]
     },
     "execution_count": 83,
     "metadata": {},
     "output_type": "execute_result"
    }
   ],
   "source": [
    "fecha3"
   ]
  },
  {
   "cell_type": "code",
   "execution_count": null,
   "metadata": {},
   "outputs": [],
   "source": []
  }
 ],
 "metadata": {
  "kernelspec": {
   "display_name": "Python 3",
   "language": "python",
   "name": "python3"
  },
  "language_info": {
   "codemirror_mode": {
    "name": "ipython",
    "version": 3
   },
   "file_extension": ".py",
   "mimetype": "text/x-python",
   "name": "python",
   "nbconvert_exporter": "python",
   "pygments_lexer": "ipython3",
   "version": "3.5.2"
  }
 },
 "nbformat": 4,
 "nbformat_minor": 2
}
